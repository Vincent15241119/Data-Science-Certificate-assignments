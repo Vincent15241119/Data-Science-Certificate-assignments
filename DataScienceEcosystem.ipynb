{
 "cells": [
  {
   "cell_type": "markdown",
   "id": "3729331b-5c5c-44fa-a378-bc8fa818f7c0",
   "metadata": {},
   "source": [
    "# Data Science Tools and Ecosystem\n"
   ]
  },
  {
   "cell_type": "markdown",
   "id": "b685ec93-c248-465b-b719-b3fe4a43b798",
   "metadata": {},
   "source": [
    "In this notebook, Data Science Tools and Ecosystem are summarized."
   ]
  },
  {
   "cell_type": "markdown",
   "id": "22cf0785-07bd-4ba9-b4c1-0a56d62c1fcf",
   "metadata": {},
   "source": [
    "**Objectives:**\n",
    "- List popular languages for Data Science\n",
    "- List commonly used libraries for Data Science\n",
    "- List commonly used Data Science Tools"
   ]
  },
  {
   "cell_type": "markdown",
   "id": "e499fd5a-337b-4332-9a8a-431f7e7c1eee",
   "metadata": {},
   "source": [
    "Some of the popular languages that Data Scientists use are:\n",
    "1. python\n",
    "2. SQL\n",
    "3. R"
   ]
  },
  {
   "cell_type": "markdown",
   "id": "ed886ea9-2e01-42e8-a2fb-534d3c693259",
   "metadata": {},
   "source": [
    "Some of the commonly used libraries used by Data Scientists include:\n",
    "1. numpy\n",
    "2. pandas\n",
    "3. matplotlib\n",
    "4. searbon\n",
    "5. keras"
   ]
  },
  {
   "cell_type": "markdown",
   "id": "01f47c31-4bf1-4ed1-b5b2-9a19a1f7c64f",
   "metadata": {},
   "source": [
    "| Data Science Tools|\n",
    "------------------|\n",
    "|jupyter notebook|\n",
    "|RStudio|\n",
    "|Hadoop|"
   ]
  },
  {
   "cell_type": "markdown",
   "id": "293f6295-7e04-4c94-91eb-5fcd497568a8",
   "metadata": {},
   "source": [
    "### Below are a few examples of evaluating arithmetic expressions in Python"
   ]
  },
  {
   "cell_type": "code",
   "execution_count": 2,
   "id": "fc3ed0e5-6e2e-4067-b2ba-ac7ed2417421",
   "metadata": {},
   "outputs": [
    {
     "data": {
      "text/plain": [
       "17"
      ]
     },
     "execution_count": 2,
     "metadata": {},
     "output_type": "execute_result"
    }
   ],
   "source": [
    "#This a simple arithmetic expression to mutiply then add integers\n",
    "(3*4)+5"
   ]
  },
  {
   "cell_type": "code",
   "execution_count": 6,
   "id": "66799e5c-653d-4afa-8f80-077b6382e014",
   "metadata": {},
   "outputs": [
    {
     "name": "stdout",
     "output_type": "stream",
     "text": [
      "200 minutes equal to 3.3333333333333335 hours\n"
     ]
    }
   ],
   "source": [
    "#This will convert 200 minutes to hours by diving by 60\n",
    "print(\"200 minutes equal to \" + str(200/60) + ' hours')"
   ]
  },
  {
   "cell_type": "markdown",
   "id": "e8e4f42d-ecc1-4b2d-b2bd-d4daac47b177",
   "metadata": {},
   "source": [
    "## Author\n",
    "Vincent"
   ]
  },
  {
   "cell_type": "code",
   "execution_count": null,
   "id": "3ef906df-2072-4991-9cca-1af3b79febcd",
   "metadata": {},
   "outputs": [],
   "source": []
  }
 ],
 "metadata": {
  "kernelspec": {
   "display_name": "Python 3 (ipykernel)",
   "language": "python",
   "name": "python3"
  },
  "language_info": {
   "codemirror_mode": {
    "name": "ipython",
    "version": 3
   },
   "file_extension": ".py",
   "mimetype": "text/x-python",
   "name": "python",
   "nbconvert_exporter": "python",
   "pygments_lexer": "ipython3",
   "version": "3.10.11"
  }
 },
 "nbformat": 4,
 "nbformat_minor": 5
}
